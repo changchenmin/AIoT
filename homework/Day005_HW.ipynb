{
 "cells": [
  {
   "cell_type": "markdown",
   "metadata": {},
   "source": [
    "作業1 : 練習使用一個民生物聯網 API，例如空氣、地震等感測站所回傳的紀錄資料。\n",
    "        參考資料網址： https://ci.taiwan.gov.tw/dsp/environmental.aspx"
   ]
  },
  {
   "cell_type": "markdown",
   "metadata": {},
   "source": [
    "中央氣象局地震監測站\n",
    "https://sta.ci.taiwan.gov.tw/STA_Earthquake_v2/v1.0/Things?$filter=substringof(%27%E8%99%9F%E5%9C%B0%E9%9C%87%27,name)&$count=true"
   ]
  },
  {
   "cell_type": "code",
   "execution_count": null,
   "metadata": {},
   "outputs": [],
   "source": []
  },
  {
   "cell_type": "markdown",
   "metadata": {},
   "source": [
    "作業2 : 練習操作 OGC SensorThings API，將環保局測站位置的資料抓取下來，並且觀察下載資料的內容。\n",
    "           參考網址：https://sta.ci.taiwan.gov.tw/STA_AirQuality_EPAIoT/v1.0/Things"
   ]
  },
  {
   "cell_type": "markdown",
   "metadata": {},
   "source": [
    "環保署國家空品測站\n",
    "https://sta.ci.taiwan.gov.tw/STA_AirQuality_v2/v1.0/Datastreams?$expand=Thing,Observations($orderby=phenomenonTime%20desc;$top=1)&$filter=Thing/properties/authority%20eq%20%27%E8%A1%8C%E6%94%BF%E9%99%A2%E7%92%B0%E5%A2%83%E4%BF%9D%E8%AD%B7%E7%BD%B2%27%20and%20substringof(%27%E7%A9%BA%E6%B0%A3%E5%93%81%E8%B3%AA%E6%B8%AC%E7%AB%99%27,Thing/name)&$count=true"
   ]
  },
  {
   "cell_type": "code",
   "execution_count": null,
   "metadata": {},
   "outputs": [],
   "source": []
  },
  {
   "cell_type": "markdown",
   "metadata": {},
   "source": [
    "作業3 : 依據作業 2 所下載的各個環保局測站感測器的描述資料，進一步點選 Datastreams、Locations，以及 Datastreams 點選進入後，點選 Observations 的 URL，觀察所下載到的資料內容，其中 Observations 內部是否包含個別感測器紀錄的資料。"
   ]
  },
  {
   "cell_type": "markdown",
   "metadata": {},
   "source": [
    "https://sta.ci.taiwan.gov.tw/STA_AirQuality_v2/v1.0/Observations(302343377)"
   ]
  },
  {
   "cell_type": "markdown",
   "metadata": {},
   "source": [
    "https://sta.ci.taiwan.gov.tw/STA_AirQuality_v2/v1.0/Observations(302343377)/Datastream"
   ]
  },
  {
   "cell_type": "markdown",
   "metadata": {},
   "source": [
    "有包含個別感測器的資料"
   ]
  }
 ],
 "metadata": {
  "kernelspec": {
   "display_name": "Python 3",
   "language": "python",
   "name": "python3"
  },
  "language_info": {
   "codemirror_mode": {
    "name": "ipython",
    "version": 3
   },
   "file_extension": ".py",
   "mimetype": "text/x-python",
   "name": "python",
   "nbconvert_exporter": "python",
   "pygments_lexer": "ipython3",
   "version": "3.7.9"
  }
 },
 "nbformat": 4,
 "nbformat_minor": 4
}
